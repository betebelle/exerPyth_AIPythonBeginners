{
 "cells": [
  {
   "cell_type": "markdown",
   "id": "f6bf49f7-21f0-47bc-9a3e-7fd325a0b9bf",
   "metadata": {},
   "source": [
    "# Lesson 4 - Customizing recipes with lists, dictionaries and AI"
   ]
  },
  {
   "cell_type": "markdown",
   "id": "a9f73957",
   "metadata": {},
   "source": [
    "In the previous lesson, you went through how to use dictionaries to complete tasks by priority. In this lesson, you will see how you can use dictionaries to update LLM prompts and create food recipies that match your friends preferences, restrictions and cooking experience. "
   ]
  },
  {
   "cell_type": "code",
   "execution_count": 1,
   "id": "0669df5d-5013-466b-90c8-679364ff80a1",
   "metadata": {
    "height": 30
   },
   "outputs": [],
   "source": [
    "from helper_functions import print_llm_response, get_llm_response"
   ]
  },
  {
   "cell_type": "markdown",
   "id": "f2ddd461",
   "metadata": {},
   "source": [
    "## Food preference dictionaries\n",
    "\n",
    "Dictionaries are a useful way to organize multiple variables associated with a single entity, like one of your friends. In the next dictionary, you store the food preferences and cooking experience for Tommy."
   ]
  },
  {
   "cell_type": "code",
   "execution_count": 11,
   "id": "5ccb6d62",
   "metadata": {
    "height": 115
   },
   "outputs": [],
   "source": [
    "food_preferences_juno = {\n",
    "        \"dietary_restrictions\": [\"lavender\", \"papaya\"], \n",
    "        \"favorite_ingredients\": [\"tofu\", \"pork\", \"sichuan peppercorn\", \"fermented vegetables\", \"egg\", \"rice\"],\n",
    "        \"experience_level\": \"intermediate\",\n",
    "        \"maximum_spice_level\": 8\n",
    "}"
   ]
  },
  {
   "cell_type": "markdown",
   "id": "b27a261d",
   "metadata": {},
   "source": [
    "As you can see there, that dictionary has four keys, wich you can access using `\".keys()\"`:"
   ]
  },
  {
   "cell_type": "code",
   "execution_count": 12,
   "id": "8849cd3c",
   "metadata": {
    "height": 30
   },
   "outputs": [
    {
     "name": "stdout",
     "output_type": "stream",
     "text": [
      "dict_keys(['dietary_restrictions', 'favorite_ingredients', 'experience_level', 'maximum_spice_level'])\n"
     ]
    }
   ],
   "source": [
    "print(food_preferences_juno.keys())"
   ]
  },
  {
   "cell_type": "markdown",
   "id": "d73a2a44",
   "metadata": {},
   "source": [
    "And it has values with different data types: lists, strings and integers. "
   ]
  },
  {
   "cell_type": "code",
   "execution_count": 13,
   "id": "31f98465",
   "metadata": {
    "height": 30
   },
   "outputs": [
    {
     "name": "stdout",
     "output_type": "stream",
     "text": [
      "dict_values([['lavender', 'papaya'], ['tofu', 'pork', 'sichuan peppercorn', 'fermented vegetables', 'egg', 'rice'], 'intermediate', 8])\n"
     ]
    }
   ],
   "source": [
    "print(food_preferences_juno.values())"
   ]
  },
  {
   "cell_type": "markdown",
   "id": "4d786ed3",
   "metadata": {},
   "source": [
    "Let's see how you can use these in a prompt to create recipes that take into account your friends dietary preferences."
   ]
  },
  {
   "cell_type": "markdown",
   "id": "5241f8b9",
   "metadata": {},
   "source": [
    "## Using keys and values within AI prompt"
   ]
  },
  {
   "cell_type": "markdown",
   "id": "6a8f30dc",
   "metadata": {},
   "source": [
    "So here's a prompt that uses all the information in the dictionary to create a customized recipe"
   ]
  },
  {
   "cell_type": "code",
   "execution_count": 17,
   "id": "463a6d2a",
   "metadata": {
    "height": 200
   },
   "outputs": [],
   "source": [
    "prompt = f\"\"\"Please suggest a recipe that tries to include some of \n",
    "the following ingredients: \n",
    "{food_preferences_juno[\"favorite_ingredients\"]}.\n",
    "The recipe should adhere to the following dietary restrictions:\n",
    "{food_preferences_juno[\"dietary_restrictions\"]}.\n",
    "The difficulty of the recipe should be: \n",
    "{food_preferences_juno[\"experience_level\"]}\n",
    "The maximum spice level on a scale of 10 should be: \n",
    "{food_preferences_juno[\"maximum_spice_level\"]} \n",
    "Provide instructions on how to prepare using the Imperial system.\n",
    "\"\"\""
   ]
  },
  {
   "cell_type": "markdown",
   "id": "b24af997",
   "metadata": {},
   "source": [
    "Run the cell below to print the prompt."
   ]
  },
  {
   "cell_type": "code",
   "execution_count": 18,
   "id": "6cceec03-639e-460c-a0d6-b34adb2cd28d",
   "metadata": {
    "height": 30
   },
   "outputs": [
    {
     "name": "stdout",
     "output_type": "stream",
     "text": [
      "Please suggest a recipe that tries to include some of \n",
      "the following ingredients: \n",
      "['tofu', 'pork', 'sichuan peppercorn', 'fermented vegetables', 'egg', 'rice'].\n",
      "The recipe should adhere to the following dietary restrictions:\n",
      "['lavender', 'papaya'].\n",
      "The difficulty of the recipe should be: \n",
      "intermediate\n",
      "The maximum spice level on a scale of 10 should be: \n",
      "8 \n",
      "Provide instructions on how to prepare using the Imperial system.\n",
      "\n"
     ]
    }
   ],
   "source": [
    "print(prompt)"
   ]
  },
  {
   "cell_type": "markdown",
   "id": "10b37203",
   "metadata": {},
   "source": [
    "Now, you can use that prompt with an LLM to suggest a recipe to fit Tommy's preferences:"
   ]
  },
  {
   "cell_type": "code",
   "execution_count": 19,
   "id": "14850b74",
   "metadata": {
    "height": 30
   },
   "outputs": [
    {
     "name": "stdout",
     "output_type": "stream",
     "text": [
      "____________________________________________________________________________________________________\n",
      "**Sichuan Pork and Tofu Stir-Fry with Fermented Vegetables**\n",
      "\n",
      "**Ingredients:**\n",
      "- 1 lb pork tenderloin, thinly sliced\n",
      "- 1 block (14 oz) firm tofu, drained and cubed\n",
      "- 1 tablespoon Sichuan peppercorns\n",
      "- 1 cup fermented vegetables (e.g., kimchi or pickled radish)\n",
      "- 2 large eggs\n",
      "- 2 cups cooked rice\n",
      "- 2 tablespoons vegetable oil\n",
      "- 2 tablespoons soy sauce\n",
      "- 1 tablespoon chili paste (adjust for spice level)\n",
      "- 2 cloves garlic, minced\n",
      "- 1-inch piece ginger, minced\n",
      "- 2 green onions, chopped (for garnish)\n",
      "\n",
      "**Instructions:**\n",
      "\n",
      "1. **Prepare the Tofu:**\n",
      "   - Heat 1 tablespoon of vegetable oil in a large skillet over medium-high heat.\n",
      "   - Add the cubed tofu and fry until golden brown on all sides, about 5-7 minutes. Remove and set aside.\n",
      "\n",
      "2. **Cook the Pork:**\n",
      "   - In the same skillet, add another tablespoon of oil. \n",
      "   - Add the Sichuan peppercorns and stir-fry for about 30 seconds until fragrant.\n",
      "   - Add the sliced pork and cook until browned, about 5-6 minutes.\n",
      "\n",
      "3. **Add Aromatics:**\n",
      "   - Stir in the minced garlic and ginger, cooking for an additional 1-2 minutes until fragrant.\n",
      "\n",
      "4. **Combine Ingredients:**\n",
      "   - Return the tofu to the skillet. \n",
      "   - Add the fermented vegetables, soy sauce, and chili paste. Stir well to combine and cook for another 3-4 minutes until heated through.\n",
      "\n",
      "5. **Scramble the Eggs:**\n",
      "   - In a separate pan, scramble the eggs until just set. Remove from heat.\n",
      "\n",
      "6. **Serve:**\n",
      "   - Serve the stir-fry over cooked rice, topped with scrambled eggs and garnished with chopped green onions.\n",
      "\n",
      "**Enjoy your flavorful dish!**\n",
      "____________________________________________________________________________________________________\n",
      "\n",
      "\n"
     ]
    }
   ],
   "source": [
    "print_llm_response(prompt)"
   ]
  },
  {
   "cell_type": "markdown",
   "id": "e00bb0c1",
   "metadata": {},
   "source": [
    "The model followed the instructions. Tommy will be delighted!"
   ]
  },
  {
   "cell_type": "markdown",
   "id": "86e7ba47",
   "metadata": {},
   "source": [
    "## Refining the prompt with available ingredients"
   ]
  },
  {
   "cell_type": "markdown",
   "id": "e813a9b6",
   "metadata": {},
   "source": [
    "You can go a step further and consider the available ingredients at your house. To do so, let's use the following lists:"
   ]
  },
  {
   "cell_type": "code",
   "execution_count": 25,
   "id": "72256217-4474-4c48-a87d-36b444c25ea6",
   "metadata": {
    "height": 30
   },
   "outputs": [],
   "source": [
    "available_seasonings = [\"cumin\", \"turmeric\", \"paprika\", \"black pepper\", \"red pepper flakes\", \"ginger\", \"garlic\", \"onion powder\"]"
   ]
  },
  {
   "cell_type": "markdown",
   "id": "b2f46ab1",
   "metadata": {},
   "source": [
    "You can add these directly to the prompt so that the LLM take those into consideration"
   ]
  },
  {
   "cell_type": "code",
   "execution_count": 26,
   "id": "3b73cd00-bf5e-4865-9a05-07e7f68b1296",
   "metadata": {
    "height": 268
   },
   "outputs": [
    {
     "name": "stdout",
     "output_type": "stream",
     "text": [
      "Please suggest a recipe that tries to include some of \n",
      "the following ingredients: \n",
      "['tofu', 'pork', 'sichuan peppercorn', 'fermented vegetables', 'egg', 'rice'].\n",
      "The recipe should adhere to the following dietary restrictions:\n",
      "['lavender', 'papaya'].\n",
      "The difficulty of the recipe should be: \n",
      "intermediate\n",
      "The maximum spice level on a scale of 10 should be: \n",
      "8 \n",
      "Provide instructions on how to prepare using the Imperial system.\n",
      "\n",
      "The recipe should not include seasonings outside of this list:\n",
      "seasonings: ['cumin', 'turmeric', 'paprika', 'black pepper', 'red pepper flakes', 'ginger', 'garlic', 'onion powder']\n",
      "\n"
     ]
    }
   ],
   "source": [
    "prompt = f\"\"\"Please suggest a recipe that tries to include some of \n",
    "the following ingredients: \n",
    "{food_preferences_juno[\"favorite_ingredients\"]}.\n",
    "The recipe should adhere to the following dietary restrictions:\n",
    "{food_preferences_juno[\"dietary_restrictions\"]}.\n",
    "The difficulty of the recipe should be: \n",
    "{food_preferences_juno[\"experience_level\"]}\n",
    "The maximum spice level on a scale of 10 should be: \n",
    "{food_preferences_juno[\"maximum_spice_level\"]} \n",
    "Provide instructions on how to prepare using the Imperial system.\n",
    "\n",
    "The recipe should not include seasonings outside of this list:\n",
    "seasonings: {available_seasonings}\n",
    "\"\"\"\n",
    "print(prompt)"
   ]
  },
  {
   "cell_type": "markdown",
   "id": "4a78b961",
   "metadata": {},
   "source": [
    "Now, get the LLM response to that prompt and assign it to a variable:"
   ]
  },
  {
   "cell_type": "code",
   "execution_count": 27,
   "id": "bc9f9acf",
   "metadata": {
    "height": 30
   },
   "outputs": [],
   "source": [
    "recipe = get_llm_response(prompt)"
   ]
  },
  {
   "cell_type": "markdown",
   "id": "c87c1079",
   "metadata": {},
   "source": [
    "And print the recipe that considers Tommy's restrictions as well as the available ingredients at your house."
   ]
  },
  {
   "cell_type": "code",
   "execution_count": 28,
   "id": "d211dac7",
   "metadata": {
    "height": 30
   },
   "outputs": [
    {
     "name": "stdout",
     "output_type": "stream",
     "text": [
      "### Spicy Sichuan Pork and Tofu Stir-Fry\n",
      "\n",
      "#### Ingredients:\n",
      "- 1 cup firm tofu, cubed\n",
      "- 1 pound pork (shoulder or loin), thinly sliced\n",
      "- 1 tablespoon Sichuan peppercorns\n",
      "- 1 cup fermented vegetables (like kimchi or pickled veggies)\n",
      "- 2 large eggs\n",
      "- 2 cups cooked rice\n",
      "- 2 tablespoons vegetable oil\n",
      "- 1 teaspoon cumin\n",
      "- 1 teaspoon turmeric\n",
      "- 1 teaspoon paprika\n",
      "- 1 teaspoon black pepper\n",
      "- 1 teaspoon red pepper flakes\n",
      "- 1 teaspoon ginger, minced\n",
      "- 2 cloves garlic, minced\n",
      "- 1 tablespoon onion powder\n",
      "\n",
      "#### Instructions:\n",
      "\n",
      "1. **Prepare the Tofu**: \n",
      "   - Press the tofu to remove excess moisture. Cut into 1-inch cubes.\n",
      "\n",
      "2. **Cook the Pork**: \n",
      "   - In a large skillet or wok, heat 1 tablespoon of vegetable oil over medium-high heat. \n",
      "   - Add the sliced pork and cook until browned and cooked through, about 5-7 minutes. Remove and set aside.\n",
      "\n",
      "3. **Sauté Tofu**: \n",
      "   - In the same skillet, add another tablespoon of oil. \n",
      "   - Add the cubed tofu and cook until golden brown on all sides, about 5-6 minutes. Remove and set aside with the pork.\n",
      "\n",
      "4. **Spice it Up**: \n",
      "   - In the same skillet, add the Sichuan peppercorns and toast for about 1 minute until fragrant.\n",
      "   - Add the minced ginger and garlic, cooking for another minute.\n",
      "\n",
      "5. **Combine Ingredients**: \n",
      "   - Return the pork and tofu to the skillet. \n",
      "   - Stir in the fermented vegetables, cumin, turmeric, paprika, black pepper, and red pepper flakes. Mix well and cook for an additional 3-4 minutes.\n",
      "\n",
      "6. **Scramble the Eggs**: \n",
      "   - Push the stir-fry to one side of the skillet. \n",
      "   - Crack the eggs into the empty side and scramble until just set. Mix into the stir-fry.\n",
      "\n",
      "7. **Serve**: \n",
      "   - Serve the stir-fry over cooked rice. Adjust spice level with more red pepper flakes if desired.\n",
      "\n",
      "Enjoy your spicy Sichuan pork and tofu stir-fry!\n"
     ]
    }
   ],
   "source": [
    "print(recipe)"
   ]
  },
  {
   "cell_type": "markdown",
   "id": "8dd1eebb",
   "metadata": {},
   "source": [
    "Try changing the prompt to give you step-by-step instructions and try adding a key-value pair to the dictionary that indicates favorite cuisine."
   ]
  },
  {
   "cell_type": "markdown",
   "id": "d21d016e-e278-47f9-a3da-b031eb6905e9",
   "metadata": {},
   "source": [
    "## Looking ahead"
   ]
  },
  {
   "cell_type": "markdown",
   "id": "71e7f4a4-efbe-4bbb-a6b4-60305a2e5427",
   "metadata": {},
   "source": [
    "Let's take another look at`food_preferences_tommy[\"dietary_restrictions\"]` "
   ]
  },
  {
   "cell_type": "code",
   "execution_count": 29,
   "id": "91bb95c7-1940-452d-a120-149bf8db61c7",
   "metadata": {
    "height": 30
   },
   "outputs": [
    {
     "name": "stdout",
     "output_type": "stream",
     "text": [
      "['lavender', 'papaya']\n"
     ]
    }
   ],
   "source": [
    "print(food_preferences_juno[\"dietary_restrictions\"])"
   ]
  },
  {
   "cell_type": "markdown",
   "id": "b5f5fe5e-feae-4a8a-9e11-9cfb99958df2",
   "metadata": {},
   "source": [
    "Here is a different way you could tell Python that Tommy is vegetarian:"
   ]
  },
  {
   "cell_type": "code",
   "execution_count": 32,
   "id": "c447a119-a75b-4f83-87e1-81a6f4e34c13",
   "metadata": {
    "height": 30
   },
   "outputs": [],
   "source": [
    "food_preferences_juno[\"is_vegetarian\"] = False"
   ]
  },
  {
   "cell_type": "code",
   "execution_count": 33,
   "id": "bfea6233-99af-43b8-b26f-6ba0696f34c6",
   "metadata": {
    "height": 30
   },
   "outputs": [
    {
     "name": "stdout",
     "output_type": "stream",
     "text": [
      "{'dietary_restrictions': ['lavender', 'papaya'], 'favorite_ingredients': ['tofu', 'pork', 'sichuan peppercorn', 'fermented vegetables', 'egg', 'rice'], 'experience_level': 'intermediate', 'maximum_spice_level': 8, 'is_lavender': False, 'is_vegetarian': False}\n"
     ]
    }
   ],
   "source": [
    "print(food_preferences_juno)"
   ]
  },
  {
   "cell_type": "markdown",
   "id": "3e43d1db-4ce2-4444-9c47-d0ae02370976",
   "metadata": {},
   "source": [
    "Go to next video to see what `True` and `False` are and how they work in Python"
   ]
  },
  {
   "cell_type": "markdown",
   "id": "cc7e65ef-1983-43d0-93b5-ce29a2c9f387",
   "metadata": {},
   "source": [
    "## Extra practice"
   ]
  },
  {
   "cell_type": "markdown",
   "id": "7389bce5-8c0d-41cf-b347-01c741078ef0",
   "metadata": {},
   "source": [
    "Please go through the exercises in the cells below if you want some extra practice for the topics you covered in this lesson."
   ]
  },
  {
   "cell_type": "code",
   "execution_count": 34,
   "id": "83969e6c-e89b-4061-8a9b-69764225dccd",
   "metadata": {
    "height": 251
   },
   "outputs": [
    {
     "name": "stdout",
     "output_type": "stream",
     "text": [
      "{'dietary_restrictions': ['lavender', 'papaya'], 'favorite_ingredients': ['tofu', 'pork', 'sichuan peppercorn', 'fermented vegetables', 'egg', 'rice'], 'experience_level': 'intermediate', 'maximum_spice_level': 8}\n"
     ]
    }
   ],
   "source": [
    "# Update the following dictionary \n",
    "# with your own preferences \n",
    "\n",
    "### EDIT THE FOLLOWING CODE ###\n",
    "food_preferences_juno = {\n",
    "        \"dietary_restrictions\": [\"lavender\", \"papaya\"], \n",
    "        \"favorite_ingredients\": [\"tofu\", \"pork\", \"sichuan peppercorn\", \"fermented vegetables\", \"egg\", \"rice\"],\n",
    "        \"experience_level\": \"intermediate\",\n",
    "        \"maximum_spice_level\": 8\n",
    "}\n",
    "\n",
    "### --------------- ###\n",
    "\n",
    "print(food_preferences_juno)"
   ]
  },
  {
   "cell_type": "code",
   "execution_count": 35,
   "id": "e22eb004-6a9c-4274-9ae3-c9ee106689fb",
   "metadata": {
    "height": 353
   },
   "outputs": [
    {
     "name": "stdout",
     "output_type": "stream",
     "text": [
      "____________________________________________________________________________________________________\n",
      "**Sichuan Pork and Tofu Stir-Fry with Fermented Vegetables**\n",
      "\n",
      "**Ingredients:**\n",
      "- 1 lb pork (thinly sliced)\n",
      "- 1 block (14 oz) firm tofu (cubed)\n",
      "- 2 tablespoons Sichuan peppercorns\n",
      "- 1 cup fermented vegetables (e.g., kimchi or pickled vegetables)\n",
      "- 2 eggs\n",
      "- 2 cups cooked rice\n",
      "- 3 tablespoons vegetable oil\n",
      "- 2 tablespoons soy sauce\n",
      "- 1 tablespoon rice vinegar\n",
      "- 1 tablespoon chili paste (adjust for spice level)\n",
      "- 2 green onions (chopped, for garnish)\n",
      "\n",
      "**Instructions:**\n",
      "\n",
      "1. **Prepare the Tofu:**\n",
      "   - Press the tofu to remove excess moisture. Cut into 1-inch cubes.\n",
      "\n",
      "2. **Cook the Pork:**\n",
      "   - Heat 1 tablespoon of vegetable oil in a large skillet or wok over medium-high heat.\n",
      "   - Add the sliced pork and stir-fry until browned and cooked through (about 5-7 minutes). Remove from the skillet and set aside.\n",
      "\n",
      "3. **Toast Sichuan Peppercorns:**\n",
      "   - In the same skillet, add the Sichuan peppercorns and toast for about 1 minute until fragrant. Remove and crush lightly.\n",
      "\n",
      "4. **Cook the Tofu:**\n",
      "   - Add another tablespoon of oil to the skillet. Add the cubed tofu and fry until golden brown on all sides (about 5-6 minutes). Remove and set aside.\n",
      "\n",
      "5. **Combine Ingredients:**\n",
      "   - In the skillet, add the remaining tablespoon of oil. Add the fermented vegetables and stir-fry for 2-3 minutes.\n",
      "   - Return the pork and tofu to the skillet. Add soy sauce, rice vinegar, chili paste, and crushed Sichuan peppercorns. Stir well to combine and heat through (about 2-3 minutes).\n",
      "\n",
      "6. **Scramble the Eggs:**\n",
      "   - Push the stir-fry to one side of the skillet. Crack the eggs into the empty side and scramble until cooked. Mix with the stir-fry.\n",
      "\n",
      "7. **Serve:**\n",
      "   - Serve the stir-fry over cooked rice. Garnish with chopped green onions.\n",
      "\n",
      "**Enjoy your flavorful dish!**\n",
      "____________________________________________________________________________________________________\n",
      "\n",
      "\n"
     ]
    }
   ],
   "source": [
    "# Modify the following prompt, \n",
    "# without adding more than two sentences,\n",
    "# so that the provided recipe includes detailed instructions.\n",
    "\n",
    "### EDIT THE FOLLOWING CODE ###\n",
    "#Hint: look at the last sentence in this prompt\n",
    "prompt = f\"\"\"Please suggest a recipe that tries to include some of \n",
    "the following ingredients: \n",
    "{food_preferences_juno[\"favorite_ingredients\"]}.\n",
    "The recipe should adhere to the following dietary restrictions:\n",
    "{food_preferences_juno[\"dietary_restrictions\"]}.\n",
    "The difficulty of the recipe should be: \n",
    "{food_preferences_juno[\"experience_level\"]}\n",
    "The maximum spice level on a scale of 10 should be: \n",
    "{food_preferences_juno[\"maximum_spice_level\"]} \n",
    "Provide instructions on how to prepare using the Imperial system.\n",
    "\"\"\"\n",
    "### --------------- ###\n",
    "\n",
    "print_llm_response(prompt)"
   ]
  }
 ],
 "metadata": {
  "kernelspec": {
   "display_name": "Python 3 (ipykernel)",
   "language": "python",
   "name": "python3"
  },
  "language_info": {
   "codemirror_mode": {
    "name": "ipython",
    "version": 3
   },
   "file_extension": ".py",
   "mimetype": "text/x-python",
   "name": "python",
   "nbconvert_exporter": "python",
   "pygments_lexer": "ipython3",
   "version": "3.9.19"
  }
 },
 "nbformat": 4,
 "nbformat_minor": 5
}
